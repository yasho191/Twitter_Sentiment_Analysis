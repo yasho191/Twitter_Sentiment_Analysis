{
 "cells": [
  {
   "cell_type": "markdown",
   "metadata": {},
   "source": [
    "# Classifying Disaster Tweets from Twitter\n",
    "\n",
    "Start with Importing the necessary libraries for basic data exploration."
   ]
  },
  {
   "cell_type": "code",
   "execution_count": 1,
   "metadata": {},
   "outputs": [],
   "source": [
    "import nltk\n",
    "import numpy as np\n",
    "import pandas as pd\n",
    "import matplotlib as plt"
   ]
  },
  {
   "cell_type": "markdown",
   "metadata": {},
   "source": [
    "### Loading the Training Dataset:"
   ]
  },
  {
   "cell_type": "code",
   "execution_count": 2,
   "metadata": {},
   "outputs": [
    {
     "data": {
      "text/html": [
       "<div>\n",
       "<style scoped>\n",
       "    .dataframe tbody tr th:only-of-type {\n",
       "        vertical-align: middle;\n",
       "    }\n",
       "\n",
       "    .dataframe tbody tr th {\n",
       "        vertical-align: top;\n",
       "    }\n",
       "\n",
       "    .dataframe thead th {\n",
       "        text-align: right;\n",
       "    }\n",
       "</style>\n",
       "<table border=\"1\" class=\"dataframe\">\n",
       "  <thead>\n",
       "    <tr style=\"text-align: right;\">\n",
       "      <th></th>\n",
       "      <th>id</th>\n",
       "      <th>keyword</th>\n",
       "      <th>location</th>\n",
       "      <th>text</th>\n",
       "      <th>target</th>\n",
       "    </tr>\n",
       "  </thead>\n",
       "  <tbody>\n",
       "    <tr>\n",
       "      <th>0</th>\n",
       "      <td>1</td>\n",
       "      <td>NaN</td>\n",
       "      <td>NaN</td>\n",
       "      <td>Our Deeds are the Reason of this #earthquake M...</td>\n",
       "      <td>1</td>\n",
       "    </tr>\n",
       "    <tr>\n",
       "      <th>1</th>\n",
       "      <td>4</td>\n",
       "      <td>NaN</td>\n",
       "      <td>NaN</td>\n",
       "      <td>Forest fire near La Ronge Sask. Canada</td>\n",
       "      <td>1</td>\n",
       "    </tr>\n",
       "    <tr>\n",
       "      <th>2</th>\n",
       "      <td>5</td>\n",
       "      <td>NaN</td>\n",
       "      <td>NaN</td>\n",
       "      <td>All residents asked to 'shelter in place' are ...</td>\n",
       "      <td>1</td>\n",
       "    </tr>\n",
       "    <tr>\n",
       "      <th>3</th>\n",
       "      <td>6</td>\n",
       "      <td>NaN</td>\n",
       "      <td>NaN</td>\n",
       "      <td>13,000 people receive #wildfires evacuation or...</td>\n",
       "      <td>1</td>\n",
       "    </tr>\n",
       "    <tr>\n",
       "      <th>4</th>\n",
       "      <td>7</td>\n",
       "      <td>NaN</td>\n",
       "      <td>NaN</td>\n",
       "      <td>Just got sent this photo from Ruby #Alaska as ...</td>\n",
       "      <td>1</td>\n",
       "    </tr>\n",
       "  </tbody>\n",
       "</table>\n",
       "</div>"
      ],
      "text/plain": [
       "   id keyword location                                               text  \\\n",
       "0   1     NaN      NaN  Our Deeds are the Reason of this #earthquake M...   \n",
       "1   4     NaN      NaN             Forest fire near La Ronge Sask. Canada   \n",
       "2   5     NaN      NaN  All residents asked to 'shelter in place' are ...   \n",
       "3   6     NaN      NaN  13,000 people receive #wildfires evacuation or...   \n",
       "4   7     NaN      NaN  Just got sent this photo from Ruby #Alaska as ...   \n",
       "\n",
       "   target  \n",
       "0       1  \n",
       "1       1  \n",
       "2       1  \n",
       "3       1  \n",
       "4       1  "
      ]
     },
     "execution_count": 2,
     "metadata": {},
     "output_type": "execute_result"
    }
   ],
   "source": [
    "df_train = pd.read_csv(\"train.csv\")\n",
    "df_train.head()"
   ]
  },
  {
   "cell_type": "markdown",
   "metadata": {},
   "source": [
    "1. Checking if the dataset has any null values.\n",
    "2. If null values are found the depending on the percentage of null values we will either rop them or replace them with empty strings"
   ]
  },
  {
   "cell_type": "code",
   "execution_count": 3,
   "metadata": {},
   "outputs": [
    {
     "data": {
      "text/plain": [
       "id             0\n",
       "keyword       61\n",
       "location    2533\n",
       "text           0\n",
       "target         0\n",
       "dtype: int64"
      ]
     },
     "execution_count": 3,
     "metadata": {},
     "output_type": "execute_result"
    }
   ],
   "source": [
    "df_train.isnull().sum()"
   ]
  },
  {
   "cell_type": "markdown",
   "metadata": {},
   "source": [
    "#### Observations and Solutions:\n",
    "1. As We can see that the Location attributes has too many null values which means that we will drop the column completetly\n",
    "2. Where as the Keyword column only has 61 null values so we will replace those with empty strings."
   ]
  },
  {
   "cell_type": "code",
   "execution_count": 4,
   "metadata": {},
   "outputs": [
    {
     "data": {
      "text/html": [
       "<div>\n",
       "<style scoped>\n",
       "    .dataframe tbody tr th:only-of-type {\n",
       "        vertical-align: middle;\n",
       "    }\n",
       "\n",
       "    .dataframe tbody tr th {\n",
       "        vertical-align: top;\n",
       "    }\n",
       "\n",
       "    .dataframe thead th {\n",
       "        text-align: right;\n",
       "    }\n",
       "</style>\n",
       "<table border=\"1\" class=\"dataframe\">\n",
       "  <thead>\n",
       "    <tr style=\"text-align: right;\">\n",
       "      <th></th>\n",
       "      <th>id</th>\n",
       "      <th>keyword</th>\n",
       "      <th>text</th>\n",
       "      <th>target</th>\n",
       "    </tr>\n",
       "  </thead>\n",
       "  <tbody>\n",
       "    <tr>\n",
       "      <th>0</th>\n",
       "      <td>1</td>\n",
       "      <td></td>\n",
       "      <td>Our Deeds are the Reason of this #earthquake M...</td>\n",
       "      <td>1</td>\n",
       "    </tr>\n",
       "    <tr>\n",
       "      <th>1</th>\n",
       "      <td>4</td>\n",
       "      <td></td>\n",
       "      <td>Forest fire near La Ronge Sask. Canada</td>\n",
       "      <td>1</td>\n",
       "    </tr>\n",
       "    <tr>\n",
       "      <th>2</th>\n",
       "      <td>5</td>\n",
       "      <td></td>\n",
       "      <td>All residents asked to 'shelter in place' are ...</td>\n",
       "      <td>1</td>\n",
       "    </tr>\n",
       "    <tr>\n",
       "      <th>3</th>\n",
       "      <td>6</td>\n",
       "      <td></td>\n",
       "      <td>13,000 people receive #wildfires evacuation or...</td>\n",
       "      <td>1</td>\n",
       "    </tr>\n",
       "    <tr>\n",
       "      <th>4</th>\n",
       "      <td>7</td>\n",
       "      <td></td>\n",
       "      <td>Just got sent this photo from Ruby #Alaska as ...</td>\n",
       "      <td>1</td>\n",
       "    </tr>\n",
       "  </tbody>\n",
       "</table>\n",
       "</div>"
      ],
      "text/plain": [
       "   id keyword                                               text  target\n",
       "0   1          Our Deeds are the Reason of this #earthquake M...       1\n",
       "1   4                     Forest fire near La Ronge Sask. Canada       1\n",
       "2   5          All residents asked to 'shelter in place' are ...       1\n",
       "3   6          13,000 people receive #wildfires evacuation or...       1\n",
       "4   7          Just got sent this photo from Ruby #Alaska as ...       1"
      ]
     },
     "execution_count": 4,
     "metadata": {},
     "output_type": "execute_result"
    }
   ],
   "source": [
    "df_train.drop(columns=['location'], inplace = True)\n",
    "df_train['keyword'].fillna(\" \", inplace = True)\n",
    "df_train.head()"
   ]
  },
  {
   "cell_type": "markdown",
   "metadata": {},
   "source": [
    "### Tokenizing the Tweets:\n",
    "\n",
    "For this step I will be using the TweetTokenizer available in the NLTK package"
   ]
  },
  {
   "cell_type": "code",
   "execution_count": 5,
   "metadata": {},
   "outputs": [
    {
     "data": {
      "text/html": [
       "<div>\n",
       "<style scoped>\n",
       "    .dataframe tbody tr th:only-of-type {\n",
       "        vertical-align: middle;\n",
       "    }\n",
       "\n",
       "    .dataframe tbody tr th {\n",
       "        vertical-align: top;\n",
       "    }\n",
       "\n",
       "    .dataframe thead th {\n",
       "        text-align: right;\n",
       "    }\n",
       "</style>\n",
       "<table border=\"1\" class=\"dataframe\">\n",
       "  <thead>\n",
       "    <tr style=\"text-align: right;\">\n",
       "      <th></th>\n",
       "      <th>id</th>\n",
       "      <th>keyword</th>\n",
       "      <th>text</th>\n",
       "      <th>target</th>\n",
       "      <th>tok tweets</th>\n",
       "    </tr>\n",
       "  </thead>\n",
       "  <tbody>\n",
       "    <tr>\n",
       "      <th>0</th>\n",
       "      <td>1</td>\n",
       "      <td></td>\n",
       "      <td>Our Deeds are the Reason of this #earthquake M...</td>\n",
       "      <td>1</td>\n",
       "      <td>[Our, Deeds, are, the, Reason, of, this, #eart...</td>\n",
       "    </tr>\n",
       "    <tr>\n",
       "      <th>1</th>\n",
       "      <td>4</td>\n",
       "      <td></td>\n",
       "      <td>Forest fire near La Ronge Sask. Canada</td>\n",
       "      <td>1</td>\n",
       "      <td>[Forest, fire, near, La, Ronge, Sask, ., Canada]</td>\n",
       "    </tr>\n",
       "    <tr>\n",
       "      <th>2</th>\n",
       "      <td>5</td>\n",
       "      <td></td>\n",
       "      <td>All residents asked to 'shelter in place' are ...</td>\n",
       "      <td>1</td>\n",
       "      <td>[All, residents, asked, to, ', shelter, in, pl...</td>\n",
       "    </tr>\n",
       "    <tr>\n",
       "      <th>3</th>\n",
       "      <td>6</td>\n",
       "      <td></td>\n",
       "      <td>13,000 people receive #wildfires evacuation or...</td>\n",
       "      <td>1</td>\n",
       "      <td>[13,000, people, receive, #wildfires, evacuati...</td>\n",
       "    </tr>\n",
       "    <tr>\n",
       "      <th>4</th>\n",
       "      <td>7</td>\n",
       "      <td></td>\n",
       "      <td>Just got sent this photo from Ruby #Alaska as ...</td>\n",
       "      <td>1</td>\n",
       "      <td>[Just, got, sent, this, photo, from, Ruby, #Al...</td>\n",
       "    </tr>\n",
       "  </tbody>\n",
       "</table>\n",
       "</div>"
      ],
      "text/plain": [
       "   id keyword                                               text  target  \\\n",
       "0   1          Our Deeds are the Reason of this #earthquake M...       1   \n",
       "1   4                     Forest fire near La Ronge Sask. Canada       1   \n",
       "2   5          All residents asked to 'shelter in place' are ...       1   \n",
       "3   6          13,000 people receive #wildfires evacuation or...       1   \n",
       "4   7          Just got sent this photo from Ruby #Alaska as ...       1   \n",
       "\n",
       "                                          tok tweets  \n",
       "0  [Our, Deeds, are, the, Reason, of, this, #eart...  \n",
       "1   [Forest, fire, near, La, Ronge, Sask, ., Canada]  \n",
       "2  [All, residents, asked, to, ', shelter, in, pl...  \n",
       "3  [13,000, people, receive, #wildfires, evacuati...  \n",
       "4  [Just, got, sent, this, photo, from, Ruby, #Al...  "
      ]
     },
     "execution_count": 5,
     "metadata": {},
     "output_type": "execute_result"
    }
   ],
   "source": [
    "from nltk.tokenize import TweetTokenizer\n",
    "\n",
    "tok = TweetTokenizer()\n",
    "\n",
    "def tokenize_tweets(df):\n",
    "    final_tokenized = []\n",
    "    for i in range(len(df)):\n",
    "        tokenized = tok.tokenize(df['text'][i])\n",
    "        final_tokenized.append(tokenized)\n",
    "        \n",
    "    return final_tokenized\n",
    "\n",
    "df_train['tok tweets'] = tokenize_tweets(df_train)\n",
    "df_train.head()"
   ]
  },
  {
   "cell_type": "markdown",
   "metadata": {},
   "source": [
    "#### Removing the Stopwords:\n",
    "This step is important to remove the noise or unecessary words that have no significance from the tweets the stopwords won't completely remove the noise but will make it much better than the current tweet."
   ]
  },
  {
   "cell_type": "code",
   "execution_count": 6,
   "metadata": {},
   "outputs": [
    {
     "name": "stdout",
     "output_type": "stream",
     "text": [
      "['i', 'me', 'my', 'myself', 'we', 'our', 'ours', 'ourselves', 'you', \"you're\", \"you've\", \"you'll\", \"you'd\", 'your', 'yours', 'yourself', 'yourselves', 'he', 'him', 'his', 'himself', 'she', \"she's\", 'her', 'hers', 'herself', 'it', \"it's\", 'its', 'itself', 'they', 'them', 'their', 'theirs', 'themselves', 'what', 'which', 'who', 'whom', 'this', 'that', \"that'll\", 'these', 'those', 'am', 'is', 'are', 'was', 'were', 'be', 'been', 'being', 'have', 'has', 'had', 'having', 'do', 'does', 'did', 'doing', 'a', 'an', 'the', 'and', 'but', 'if', 'or', 'because', 'as', 'until', 'while', 'of', 'at', 'by', 'for', 'with', 'about', 'against', 'between', 'into', 'through', 'during', 'before', 'after', 'above', 'below', 'to', 'from', 'up', 'down', 'in', 'out', 'on', 'off', 'over', 'under', 'again', 'further', 'then', 'once', 'here', 'there', 'when', 'where', 'why', 'how', 'all', 'any', 'both', 'each', 'few', 'more', 'most', 'other', 'some', 'such', 'no', 'nor', 'not', 'only', 'own', 'same', 'so', 'than', 'too', 'very', 's', 't', 'can', 'will', 'just', 'don', \"don't\", 'should', \"should've\", 'now', 'd', 'll', 'm', 'o', 're', 've', 'y', 'ain', 'aren', \"aren't\", 'couldn', \"couldn't\", 'didn', \"didn't\", 'doesn', \"doesn't\", 'hadn', \"hadn't\", 'hasn', \"hasn't\", 'haven', \"haven't\", 'isn', \"isn't\", 'ma', 'mightn', \"mightn't\", 'mustn', \"mustn't\", 'needn', \"needn't\", 'shan', \"shan't\", 'shouldn', \"shouldn't\", 'wasn', \"wasn't\", 'weren', \"weren't\", 'won', \"won't\", 'wouldn', \"wouldn't\"]\n"
     ]
    }
   ],
   "source": [
    "from nltk.corpus import stopwords\n",
    "print(stopwords.words('english'))"
   ]
  },
  {
   "cell_type": "code",
   "execution_count": 7,
   "metadata": {},
   "outputs": [
    {
     "name": "stderr",
     "output_type": "stream",
     "text": [
      "c:\\users\\hp\\appdata\\local\\programs\\python\\python37\\lib\\site-packages\\pandas\\core\\indexing.py:670: SettingWithCopyWarning: \n",
      "A value is trying to be set on a copy of a slice from a DataFrame\n",
      "\n",
      "See the caveats in the documentation: https://pandas.pydata.org/pandas-docs/stable/user_guide/indexing.html#returning-a-view-versus-a-copy\n",
      "  iloc._setitem_with_indexer(indexer, value)\n"
     ]
    }
   ],
   "source": [
    "def remove_stop_words():\n",
    "    for i in range(len(df_train)):\n",
    "        original_line = df_train['tok tweets'].iloc[i]\n",
    "        stop_words = set(stopwords.words('english'))\n",
    "        final_line = [word for word in original_line if word.lower() not in stop_words]\n",
    "        df_train['tok tweets'].iloc[i] = final_line\n",
    "        # print(final_line)\n",
    "remove_stop_words()"
   ]
  },
  {
   "cell_type": "markdown",
   "metadata": {},
   "source": [
    "#### Hashtag Collection:\n",
    "\n",
    "- Collecting and Analysing Hashtags is very important in when working with tweets as Hashtags can contain very valuable information about the tweet.\n",
    "- So in this step we will collect all the hashtags from the tweets and store them we will analyse these tweets later on."
   ]
  },
  {
   "cell_type": "code",
   "execution_count": 8,
   "metadata": {},
   "outputs": [],
   "source": [
    "import re\n",
    "def collect_hashtags():\n",
    "    hashtags = []\n",
    "    regex = \"#(\\w+)\"\n",
    "    \n",
    "    for i in range(len(df_train)):\n",
    "        original_line = df_train['text'].iloc[i]\n",
    "        hashtag_list = re.findall(regex, original_line)\n",
    "        # print(hashtag_list)\n",
    "        for hashtag in hashtag_list:\n",
    "            # print(hashtag)\n",
    "            hashtags.append(hashtag.lower())\n",
    "        original_line_list = df_train['tok tweets'].iloc[i]\n",
    "        for w in range(len(original_line_list)):\n",
    "            if original_line_list[w][0] == \"#\":\n",
    "                original_line_list[w] = original_line_list[w][1:]\n",
    "        df_train['tok tweets'].iloc[i] =  original_line_list\n",
    "        \n",
    "    # print(original_line_list)\n",
    "    return hashtags\n",
    "        \n",
    "hashtags = set(collect_hashtags())"
   ]
  },
  {
   "cell_type": "code",
   "execution_count": 9,
   "metadata": {},
   "outputs": [
    {
     "name": "stdout",
     "output_type": "stream",
     "text": [
      "Unique Hashtags Found:  1926\n",
      "{'catsofinstagram', 'spark', 'chinadotcom', 'instagramers', 'age', 'traumatised', 'orapinforma', 'swag', 'insurance', 'trump', 'frvrgrateful', 'iphone', 'holomua', 'bokoharam', 'mh370', 'investing', 'carlilescanoelivery', 'usgs', 'osi2016', 'boxing', 'theneeds', 'jobs', 'iwontmakeit', 'seagulls', 'benediction', 'endoccupation', 'patriots', 'meet', 'freebitcoin', 'mix', 'casualty', 'italian', 'imkeepingmydayjob', 'smallbusiness', 'caraccidentlawyer', 'wps', 'muhamadjabal', 'pandemonium', 'innocent', 'rapidcity', 'eonlinechat', 'restoringpaths', 'gas', 'yycfringe', 'auction', 'death', 'israel', 'lovefood', 'wakeupflorida', 'kotaweather', 'tvshowtime', 'nlwx', 'rockin', 'doomsday', 'asae15', 'durant', 'enkelbiljett', 'foxdebatequestions', 'wattpad', 'refugees', 'tms7', 'jadehelm15', 'picthis', 'benews', 'kashmirconflict', 'boy', 'traffic', 'magic', 'waterboarding', 'writingtips', 'thomassmonson', 'startrek', 'minamisoma', 'indiatv', 'bestseller', 'cawx', 'diversification', 'weddinghour', '615', 'alwx', 'tampa', 'givebackkalinwhiteaccount', 'bluebell', 'ts', 'yyc', 'cossack', 'breaking144', 'earthtwerk', 'ashville', 'arizona', 'nghlth', 'offers2go', 'rochdale', '365disasters', 'wcvb', 'milf', 'nagasaki', 'wantmyabsback', 'cri', 'gujaratriot', 'smem', 'pakistan', 'chernobyl', 'yazidis', 'txlege', 'survivors', 'skardu', 'lol', 'robertcalifornia', 'binladen', 'thisiswhywecanthavenicethings', 'ap', 'natural', 'africanbaze', 'illinois', 'dw', 'nowplay', 'fortworth', 'dynamix', 'nintendo', 'kelbytomlinson', 'wx', 'roddypiperautos', 'appreciativeinquiry', 'freespeech', 'foamcc', 'colorado', 'entertainment', 'aerospace', 'becarefulharry', 'thesteveharveyshow', 'southline', 'appy', 'physician', 'veterans', '20150613', 'dna', 'halifax', 'date', 'hinatobot', 'papicongress', 'ccot', 'gold', 'cedarglade2015', 'floods', 'asap', 'kerricktrial', 'deluge', 'novalismi', 'idols', 'bayonets', 'palestinian', 'pft', 'treescape', 'trafficalert', 'storm', 'lotz', 'np', '7newsadl', 'renew911health', 'wzbt', 'otratmetlife', 'jiwonle', 'varagesale', 'navy', 'zionism', 'nwt', 'sale', 'cfc', 'swim', 'mapleridge', 'photo', 'elephantintheroom', 'usmnt', 'cloud', 'goblue', 'shipping', 'magichairbump', 'gymtime', 'families', 'baltimore', '22days', 'realhiphop', 'riders', 'mexico', 'setting4success', 'iwasdisappointedby', 'painting', 'govegan', 'seduction', 'apple', 'ndtv', 'tennews', 'load', 'cum', 'elxn42', 'toosoon', 'team', 'trapmusic', 'prepper', 'riot', 'hungerarticles', 'hangout', 'fifa16', 'playlist', 'presser', 'tattoo', 'yazidi_shingal_genocide', 'iheartradio', 'orchardalley', 'titania', 'identitytheft', '89x', 'paranormal', 'bombed', 'plannedparenthood', 'doublecups', 'cle', 'airport', 'luck', 'annoucement', 'newbeginningsanimalrescue', 'burnfat', 'cuff', 'standup', 'columbus', 'coke', 'subs', 'omg', 'abha', 'frofrofro', 'poster', 'azwx', 'e', 'susiya', 'dontexpectnothing', 'decisionsondecisions', 'weloveyoulouis', 'chargedup', 'musicadvisory', 'pop2015', 'driverlesscars', 'pilot', 'qew', 'tribe', 'georgecole', 'abcnews', 'gymflow', 'watch', 'rock', 'terrorism', 'earth', 'instaquote', 'incident', 'udhampuragain', 'nativehuman', 'childhood', 'reflect', 'eyewitness', 'legionnairesdisease', 'giveaway', 'thatswhatfriendsarefor', 'disney', 'trees', 'kindle', 'hcsm', 'oregon', 'thestrain', 'oomf', 'romance', 'sinjar', 'fun', 'mystery', 'wmata', 'nyg', 'rossbarton', 'filipino', 'lessonforlife', 'priorities', 'semasirtalks', 'boston', 'aogashima', 'beyhive', 'funds', 'lungcancer', 'bluehand', 'afterhaiyan', 'displaced', 'tampabay', 'lh_movie', 'landslide', 'kca', 'indiannews', 'nffc', 'funnydadcoach', 'countynews', 'streetjamzdotnet', 'police', 'psychrewatch', 'kppolice', 'metrofmtalk', 'quotes', 'hostages', 'dfir', 'playoffs', 'warmbodies', 'elderly', 'poze', 'nhl', 'standwithpp', 'bookboost', 'tedcruz2016', 'pitmix', 'gravitymovie', 'killed', 'quake', 'nowplaying', 'battlefield', 'reuters', 'clip', 'drjustinmazur', 'abc7eyewitness', 'stephenking', 'bc', 'deepthoughts', 'technews', 'phuket', 'concert', 'obama', 'libraries', 'horrible', 'manchesterlite', 'yazidi', 'donthate', 'bts', 'thriller', '2fast2furious', 'tube', 'sismo', 'business', 'nieuws', 'followback', 'ariz', 'ultimalucha', 'auspol', 'shape', 'hardball', 'myfitnesspal', 'nv', 'results', '3', 'sinking', 'children', 'uniteblue', 'paramedics', 'beclearoncancer', 'politics', 'indiakomuntorjawabdo', 'lancaster', 'diet', 'survival', 'thehobbit', 'bbshelli', 'abstorm', 'pluto', 'pics', 'helsinki', 'floored4', 'iraq', 'harrystyles', 'roosevelt', 'achedin', 'glimpses', 'russian', 'bayarea', 'oktxduo', '1008planet', 'tow', 'fly', 'thinkpink', 'worstsummerjob', 'brochure', 'shipwreck', 'wahhabism', 'freeamirnow', 'camera', 'cdcwhistleblower', 'image', 'live', 'listen', 'summertime', 'skyrim', 'haiyan', 'boycottbears', 'vegan', 'preventative', 'facebook', 'gamergate', 'love', 'bored', 'peritoengrafoscopia', 'askforalaska', 'airplane', 'modi', 'news', 'prayforsaipan', 'shantaeforsmash', 'taxreturn', 'norge2040', 'uswarcrimes', 'heywood', 'bioterror', 'les', 'treeporn', 'wrongperson', 'keepingtheviginaclean', 'cadrought', 'real', 'bjp', 'ableg', 'tfb', 'ijetalerts', 'tigers', 'nfl', 'japanjapan', 'dutton', 'sustainability', 'gbbo', 'bitcoin', 'canonbringit', 'bakeofffriends', 'directioners', 'allthekidneybeansandsorbet4misha', 'books', 'injury', 'music', 'harrybecareful', 'chile', 'breakingnews', 'flood', 'squad', 'fartanxiety', 'roh3smantibatam', 'bookmobile', 'vail', 'artectura', 'langata', 'models', 'download', 'loseit', 'family', 'jakartapost', 'tree', 'humanconsumption', 'cityofmemphis', 'ocnj', 'sun', 'tweetlikeitsseptember11th2001', 'sportinggoods', '5sosfam', 'saintsfc', 'destinationimpact', 'war', 'mpers', 'grants', 'sorrybutitstrue', 'chawalchorbjp', 'alps', 'threatintel', 'firenews', 'cameroon', 'hampshire', 'twins', 'truckcrash', 'watersafety', 'sirensicebreaker', 'subway', 'askcharley', 'thereal', 'milledgeville', 'hailstorm', 'bbloggers', 'uknews', 'freedom', 'superfood', 'iwk', 'tnn', 'topnews', 'cts', 'glanders', 'badchoices', 'illustration', 'infectious', 'rockyfire', 'dnb', 'cbcto', 'jishin_e', 'zippoline', 'sore', 'sfgiants', 'listia', 'takecare', 'missionhills', 'thunder', 'pantherattack', '140', 'thedoolinggroup', 'aircraft', 'biblestudy', 'letsfootball', 'mumbailocals', 'japan', 'noirandeal', '8217', 'modiministry', 'trc', 'best', 'residualincome', 'cleveland', 'cumshot', 'weed', 'votejkt48id', 'libya', 'robotcoingame', 'q99', 'gardens', 'mta', 'client', 'survived', 'islamic', 'nri', 'radio', 'bangladesh', 'policy', 'babies', 'wildhorses', 'til_now', 'pt', 'fierce', 'deals_uk', 'gadgets', 'neverforget', '17', 'megaquake', 'phone', 'euroquake', 'collegeradi', 'otleyhour', 'republicans', 'inspiration', 'personalinjury', 'firefighting', 'wave', 'enolagay', 'njturnpike', 'pjnet', 'engvaus', 'redblood', 'joestrong', '4playthursdays', 'nestleindia', 'wine', 'trucking', 'preppers', 'wildfires', 'tna', 'prez', 'autoinsurance', 'flattened', 'jonvoyage', 'fireman', 'wsj', '039', 'kurokobot', 'electro', 'cbs', 'trafficnetwork', 'wod', 'photography', 'premonitions', 'arwx', 'media420', 'firemen', 'nwo', 'exec', 'gishwhes', 'patriotsnation', 'oped', 'droughtmonitor', 'trophyhunt', 'shakeology', 'calgary', 'spain', 'elections', 'nå¼36', 'firetruck', 'imdb', 'bennycapricon', 'body', 'seaworld', 'sto', 'antioch', 'interestraterise', 'rwa', 'eye', 'mullah', 'shelli', 'sms', 'laos', 'assassins', 'idlenomore', '360wisenews', 'c4news', 'b2bagency', 'promo', 'cyber', 'android', 'goodbye', 'natsnation', 'avigdorliberman', 'fingerrockfire', 'romanticsuspense', 'stormchase', 'palermo', 'ass', 'safety', 'santaclara', 'baby', 'changefortheworse', 'rrbc', 'pizzarev', 'ban', 'lovemydentist', 'losdelsonido', 'coast2coastdjs', 'animalrescue', 'ftw', 'arsenal', 'pod', 'ruor', 'ny', 'saudi', 'us', '9973', 'redsox', 'arrestpastornganga', 'mtvhottest', 'apocalypse', 'captureyyc', 'jetengine', 'refugeesmatter', 'workout', 'liveonk2', 'bestnaijamade', 'lwb', 'blackpool', 'harperanetflixshow', 'g', 'suspense', 'twisterlovesshania', 'triciaoneillphoto', 'content', 'aids', 'gms', 'fantasticfour', 'pussy', 'hwy401', 'fire', 'chester', 'mobile', 'charminar', 'cantwaittoplayinminneapolis', 'globalwarming', 'hugomatz', 'burnaby', 'global', 'iartg', 'nws', 'tribal', 'idwx', 'gfz', 'priceless', 'fanarmyfaceoff', 'amageddon', 'helpme', 'alrasyid448iturasya', 'cowx', 'psd', 'thegame', 'fukushima', 'ar', 'nar', 'bethlehem', 'aus', 'queens', 'recipes', 'newyear', 'yolandaph', 'nbc15', 'twia', 'crazyweather', 'soothmyslumber', 'companionship', 'mandela', 'gemma', 'wrestleon', 'ibooklove', 'yemen', 'infectiousdiseases', 'wimbledon', 'sex', 'care', 'nigeria', 'denver', 'rodkiai', 'losangeles', 'metal', 'privacy', 'thexfiles201days', 'ty', 'utfire', 'makinmemories', 'expertwhiner', 'rn', 'protectdenaliwolves', 'luchaunderground', 'chicago', 'anonymous', 'tarzana', 'kashmir', 'generalnews', 'xboxone', 'st', 'gbbo2015', 'palestinians', 'yiayplan', 'nsfw', 'muaytai', 'phoenix', 'vietnam', 'writing', 'stoponesounds', 'casualties', 'dvd', 'g90', 'billings', 'avalanche', 'evacuation', 'mybabies', 'wdym', 'desolationofsmaug', 'allthenews', 'guardian', 'demolition', 'lawx', 'cdnpoli', 'workers', 'tech', 'terror', 'truestory', 'ashes2ashes', 'mets', 'notrocketscience', 'nuclearweapons', 'perspective', 'now', 'videoveranomtv', 'ethical', 'orpol', 'choosegod', 'amazon', 'forbes', 'menswear', 'overwatch', 'anxietyproblems', 'palmoil', 'cogxbox', 'datingtips', 'vuzuhustle', 'philippines', 'theresmorewherethatcamefrom', 'jp', 'fresno', 'rohingya', 'annonymous', 'amicospizzato', 'kenya', 'preparedness', 'dubai', 'mrrobinson', 'westerncanadadrought', 'wcw', 'badirandeal', 'specialneeds', 'mcgsecure', 'twimbos', 'spotlight', '911', 'stlouis', 'obliteration', 'wild', 'potus', 'lolla', 'weather', 'bbc', 'watermeloann', 'jamaicaplain', 'indie', 'plugin', 'heat', 'traitor', 'menolippu', 'thebargain', 'an247', 'lies', 'snowstorm', 'theatershooting', 'justice', 'destruction', 'ices', 'fitness', 'alberta', 'saltriverwildhorses', 'sbnation', 'solicitor', 'thisispublichealth', 'cnn', 'homealone2', 'autism', 'rolandonabeats', 'sigalert', 'syria', 'icymi', 'gisuserpr', 'bahrain', 'world', 'lomasvisto', '999day', 'zimmerman', 'britishbakeoff', 'besttalkradio', 'blackinamerica', 'canada', 'startup', 'muppet', 'catastrophic', 'ovofest', 'alameda', 'windows10', 'hse', '06', 'nh1news', 'beyondthebomb', 'mylifestory', 'throwback', 'liveonstreamate', 'course', 'dua', 'perrychat', 'follow', 'run', 'mì¼sica', 'gawx', 'paraguay', 'escorts', 'turbojet', 'brooklyn', 'ihave44episodesofgg', 'tweet4taiji', 'trading', 'gamefeed', 'shoe', 'wisdomwed', 'ggindependencmessage', 'boobs', 'tepco', 'trollingtilmeekdiss', 'gopdebate', 'lonepine', 'slanglucci', 'jagm', 'nursing', '0215', 'truth', 'krefeld', 'afghanistan', 'brixton', 'copped', 'emergency', 'feelingmanly', 'freekashmir', 'moving2k15', 'movietheatre', 'valleywx', 'ezidigenocide', 'tos', 'nuke', 'terrorist', 'indiefilm', 'gabon', 'blockchain', 'mumbairiot92', 'history', 'aeroplane', 'nasa', 'thunderstorm', 'cannabis', 'atombomb', 'jonathanferrell', 'tootrue', 'courts', 'cantmakeitup', 'videogame', 'thebookclub', 'check', 'csismica', 'twcnewsclt', 'teen', 'somalia', 'dogs', 'legionstrackandfield', 'leadership', 'she', 'speakingfromexperience', 'charity', 'foot', 'drone', 'heavy', 'faroe', 'drum', 'win', 'alllivesmatter', 'reading', 'teamhennessy', 'act', 'ptsd', 'cubs', 'parents', 'rome', 'yycwalks', 'nonucleariran', 'shoes', 'oneheartonemindonecss', 'netlabel', '3novices', 'wrecked', 'sandiego', 'hempoil', 'chemical', 'ineedexposure', 'henderson', 'bridgetown', 'pieceofme', 'king', 'simple', 'tsunami', 'military', 'animals', 'routecomplex', 'retweet', 'happy', 'trauma', 'jamaica', 'aviationaddicts', 'pearlharbor', 'vaginaorcake', 'japì_n', 'shoalstraffic', 'pixelsmovie', 'earthquakenews', 'foodscare', 'millcityio', 'insas', 'piling', 'northerncalifornia', 'puppy', '16', 'bangalore', 'ww1', 'yyj', 'vegetarian', 'nj', 'blacklivesmatter', 'demolished', 'catfish', 'papiichampoo', 'ramag', 'usar2015', 'nashvilletraffic', 'theashes', 'disaster', 'capeann', 'forbesasia', 'quoteoftheday', 'volleyball', 'addtexastonext1dtour', 'justsaying', 'newswatch', 'lava', 'loveislove', 'randomthought', 'badkitty', 'moveit', 'nc', 'ms', 'prebreak', 'banking', 'preseasonworkouts', '9newsmornings', 'oilandgas', 'growingupincolorado', 'booradleyvancullen', 'standforwolves', 'bantrophyhunting', 'bush', 'rt', 'talkradio', 'saveti', 'pitchwars', 'wniagospel', 'smallbiz', 'film4', 'funtimes', 'labour', 'savedenaliwolves', 'thepartyofmeanness', 'koin6news', 'arkansas', 'undergroundrailraod', 'wbc2015', '4', 'markets', 'ftsnnewsdesk', 'cowboys', 'tookitlikeaman', 'bcpoli', 'endconflict', 'justaguess', 'technology', 'urbanfashion', 'tripoli', 'nopower', 'video', 'coloradoavalanche', 'whatcanthedo', 'bangladeshflood', '1008pla', 'hot', 'edm', 'hail', 'weddings', 'yahistorical', 'loveyouuuu', 'kamloops', 'newrelease', 'internet', 'sanelesstheory', 'ca', 'debatequestionswewanttohear', 'plague', 'cheyenne', 'insomnia', 'literarycakes', 'walmart', 'flames', 'gop', 'banksy', 'bb17', 'shop', 'whoops', 'wpo', 'suryaray', 'headlines', 'pets', 'mercados', 'badotweet', 'silverwood', 'albany', 'worldvision', 'destroy', 'warcraft', 'whag', 'wolves', 'easternoregon', 'usar15', 'christians', 'bbsnews', 'sejorg', 'katterpì', 'banthebomb', 'besafe', 'kindlecountdown', 'hiroshima70', 'masterchef', 'brisbane', 'rowysolouisville', 'free', 'fr', 'icelandreview', 'bloodbound', 'extinction', 'windstorm', 'populardemand', 'breaking411', 'piperwearsthepants', 'twist', 'in', 'gilbert23', '7', 'meditationbymsg', 'publichealth', 'wholeteam3', '24', 'smarttek', 'radiation', 'seismic', 'ziphimup', 'wa', 'europe', 'manchester', 'faroeislands', 'nude', 'lucky', 'ifunny', 'carfest', '629', 'calwildfires', 'bloodymonday', 'orcot', 'sportsroadhouse', '171', 'tory', 'homs', 'haildamage', 'tubestrike', 'irannucleardeal', 'man', 'puledo_tech_update', 'lds', 'ns', 'scichat', 'deaths', 'magginoodle', 'humble', 'nra', 'hope', 'galvnews', 'jackson', 'zippednews', 'back', 'oklahoma', 'boing', 'visionzero', 'cambridge', 'cubstalk', 'infosec', 'abandoned', 'lightning', 'lifestyle', 'summervibes', 'nba', 'sanfrancisco', 'startups', 'worldnews', 'unfml', 'ootd', '263chat', 'artistsunited', 'ksbynews', 'nyc', 'notgoingoutinthat', 'nytimes', 'ge', 'alaska', 'ncwx', 'energy', 'jfb', 'rip', 'childsexabuse', 'florida', 'freeallfour', 'waltdisney', 'francisunderwood', 'blowmandyup', 'sustainable', 'hiring', 'author', 'kamindoz', 'thedarktower', 'torrance', 'quote', 'ika', 'ayekoradio', 'wired', 'tnwx', 'money', 'handbag', 'myanmar', 'computers', 'newep', 'tbt', 'michelebachman', 'clubbanger', 'africansinsf', 'nonprofit', 'malaysiaairlines', 'cnbc', '2015', 'rain', 'atlanta', 'ppsellsbabyparts', 'vanpoli', 'anthrax', 'conversations', 'babri', 'askh3cz', 'wdyouth', 'robertwelch', 'special', 'failure', 'canpoli', 'shestooyoung', 'strategy', 'rioting', 'newyork', 'thanku', 'pbs', 'cricket', 'az', 'kneelbot', 'womens', 'marijuana', 'gallipoli', 'marinelines', 'modestmouseremix', 'ukfloods', 'programs', 'ok', 'remymarcel', 'cochrane', 'meteoearth', 'paulhollywood', 'mfrwauthor', 'etcpb', 'dam', 'charmed', 'isea2015', 'drained', 'doping', 'nosurrender', 'topstories', 'calfires', 'book', 'ch4', 'bluejays', 'rdg', 'cndpoli', 'gfe', 'momneedscoffee', 'golf', 'teenfiction', 'tdp', 'interest', 'govt', 'cutekitten', 'makewaterwork', 'contentmarketing', 'winechat', 'kml', 'kisii', 'kro', 'nojoke', 'byebyesoundcloud', 'france', 'twcnews', 'growingupblack', 'watchthevideo', 'rtrrt', 'rfp', 'videoclip', 'thereisonlysex', 'latestnews', 'texaschainsawmassacre', 'doubleghats', 'shanghai', 'actionmoviestaughtus', 'onthisday', 'bc19', 'taiwan', 'chicagoscanner', 'dublin', 'metro', 'bannukes', 'bangladeshaffected', 'computer', 'mmda', 'voodoo', 'comedy', 'food', 'hyperbole', 'crossfit', 'lakeeffect', 'kodiak', 'canontattoo', 'jazz', 'what', 'labourleadership', 'tafs', 'arts', 'genocide', 'straightfire', 'gif', 'zaatari', 'hunwx', 'mtvsummerstar', 'duststorm', 'health', 'du19', 'forex', 'crash', 'wish', 'hellfire', 'nitclub', 'funnynews', 'es', 'cs', 'msgdoing111welfareworks', 'stopevictions', 'india', 'i', 'winter', 'state', 'nature', 'wedding', 'vivaargentina', 'god', 'kyee', 'slab', 'pp15000266858', 'cyclone', 'respect', 'endangered', 'lukebox', '8392', 'la', 'london', 'cc', 'foamed', 'profittothepeople', 'tb', 'china', 'artisteoftheweekfact', 'cecilthelion', 'chelsea', 'firefighters', 'borrowers', 'whirlwind', 'lesbian', 'ergo', 'nochilllukehammings', 'liveonkbak', 'wxky', 'scseestapreparando', 'seeyouatamicos', 'dcubecrafts', 'jsunnews', 'ebola', 'raheelsharif', 'houston', 'hoc', 'nlccollide', 'crush', '1', 'backtoback', 'electronicmusic', 'catfishmtv', 'catastrophe', 'otrametlife', 'africa', 'mgtab', 'wogc', '6', 'hiroshima', 'heartdisease', 'newsdict', 'bitcoing', 'islam', 'asian', 'gunsense', 'help', 'morevoices', 'hazard', 'vancouver', 'atk', 'gaming', 'environment', 'livelihood', 'cool', 'nook', 'lake', 'newsarama', 'thorium', 'baking', 'youtube', 'tangletalk', 'snooker', 'dating', 'comingsoon', 'yug', 'mumbai', 'tuning', 'opp', 'dubstep', 'tanzania', 'sing', 'deep', 'dumuzid', 'tornadogiveaway', 'borderlands', 'iran', 'logistics', 'mn', 'australia', 'niagara', 'floridians', 'sr14', 'reidlake', 'greetingcards', 'assnchat', 'butgod', 'amssummer', 'gunfail', 'sad', 'offshore', 'travel', 'linden', 'emsc', 'thebachelorette', '163', 'uk', 'yycstorm', 'style', 'copalibertadores', 'wishlist', 'arsonist', 'roh3', 'brics', 'dc', '9', 'reno', 'tantonationalforest', 'digitalhealth', 'fires', 'autismawareness', 'econom', 'hhbu', 'southkorea', 'sciencefiction', 'vanuatu', 'komen', 'au', 'wildfire', 'lovemyjob', 'anarchy', 'adiossuperbacterias', '2a', 'greatbritishbakeoff', 'flavorchargedtea', 'mainstage', 'abomb', 'mothernature', 'oneborn', 'aintsheperty', 'pp15000266818', 'roimentor', 'comdev', 'rememberrabaa', 'rt_4_a_mention', 'job', 'everydaynaija', 'homeless', 'tv', 'round2', 'oocvg', 'olympia', 'grupdates', 'royals', 'putin', 'malaysia', 'troubleonmymind', '124', 'yagitudeh', 'boulder', 'jtw', 'shooting', 'macon', 'gh', 'dependency', 'sm', 'yes', 'refugee', 'scraptrident', 'crimes', 'emmerdale', 'summer2k15', 'anchorage', 'armageddon', '2minutemix', 'rescue', 'abc', 'aoms', 'lifehacks', 'innovation', 'choppergate', 'afterlife', 'skh', 'tough', 'earthquake', 'manhood', 'bhusa', 'emsne', 'tvjnews', 'hannaph', 'mtsalert', 'fettilootch', 'lakeisabella', 'hockey', 'ashestoashes', 'dagens', 'trump2016', 'dead', 'gravitychat', 'gloucester', 'thingsihate', 'ww3', 'evacuate', 'beconfident', 'washingtonpost', 'fdny', 'listenlive', 'worldwatchesferguson', 'myreligion', 'medinah', 'fedex', 'bomb', 'ut', 'turkish', 'raining', 'portgassdk', 'bronwynbishop', 'maps', 'queenswharf', 'drones', 'summer', 'geotech', 'bioterrorism', 'roberts', 'tn', 'gokitgo', 'nevada', 'wattys2015', 'montgomery', 'international', 'professional', 'naturaldisasters', 'cafire', 'goodreads', 'dream', 'amreading', 'vmas', 'ptsdchat', 'sports', 'song', 'udhampur', 'nikeplus', 'pbban', 'scwx', 'nasty', 'mlm', 'deadgrassandflowers', 'ashes2015', 'idfire', 'socialmedia', '37592', 'savebees', 'frontpage', 'nazis', 'nz', 'otd', 'euro', 'tragedy', 'ufo4ublogeurope', 'buffalo', 'nissannews', 'usa', 'prophetmuhammad', 'rio2016', 'greece', 'nola', 'raisinfingers', 'soundcloud', 'ojoubot', 'yr', 'rubybot', 'parkchat', 'retail', 'ey', 'allah', 'mudslide', 'ivanberroa', 'airwaves', 'bathandnortheastsomerset', 'borderlands2', 'cadenadeseguidores', 'internetradio', 'syrian', 'mediterranean', 'yzf', 'desolation', 'richhomeydon', 'bigbrother', 'saudiarabia', 'mlb', 'ugc', 'israeli', 'justinbieber', 'explodingkittens', 'followme', 'is', 'hitting', 'fat', '38745', 'hurricane', 'july', 'sirmixalot', 'revitup', 'breaking', 'forest', 'nuclear', 'fashion', '452', 'fn', 'nhlducks', 'russia', 'mht', 'ebay', 'socal', 'ppact', 'casper', 'newsintweets', 'cats', 'tomclancy', 'alaskaseafood', 'preppertalk', 'bhramabull', 'hagerstown', 'ambulance', 'summerinsweden', 'vra50', 'movie', 'skywarn', 'civilian', 'uglypeople', 'criticalmedia', 'fx', 'traintragedy', 'rickperry', 'strategicpatience', 'sydtraffic', 'fiya', 'losangelestimes', 'hotnewscake', 'forever', 'mantra', 'aftershock', 'clinton', 'telangana', 'gander', 'evilempire', 'katt', 'climate', 'astrology', 'accident', 'ems', 'mom', 'algeria', 'solar', 'mormon', 'accidentalprophecy', 'shantae', 'kick', 'co', 'paramedic', 'sacramento', 'typhoon', 'playingnow', 'gameinsight', 'california', 'farrakhan', 'biztip', 'murfreesboro', 'teamfollowback', 'yycweather', 'ccmusic', 'pathogen', 'fb100', 'nomorehandouts', 'cern', 'volcano', 'demonization', 'slingnews', 'runway', 'onlinecommunities', 'fant4stic', 'funny', 'procedures', 'disasterrecovery', 'thisdayinhistory', 'isis', 'adani', 'hopeinchrist', 'pdx911', 'littlewomenla', 'adult', 'diyala', 'beyondgps', 'opseaworld', 'worm', 'cyprus', 'deltachildren', 'lgm', 'shantaehalfgeniehero', 'cnv', 'thankyou', 'silver', 'reddit', 'edwing', 'porno', 'christianvalues', 'chronicillness', 'askconnor', 'nashsnewvideo', 'killhard', 'oil', '034', 'anti', 'bailout', 'tw4rw', 'eventspalmbeach', 'childhooddefined', 'yugvani', 'lightningstrike', 'wholesaleent', 'danger', 'reggaeboyz', 'kurds', 'entrepreneur', 'iamdowntown', 'hillaryclinton', 'mufc', 'firstnations', 'defendant', 'occasion2b', 'hometownglory', 'people', 'rainstorm', 'bowe', 'virus', 'disabledveterans', 'hiphop', 'dumle', 'tcotåê', 'sebee', 'p2', 'scifi', 'iot', 'pugprobs', 'japanese', 'snapchatselfie', 'lnp', 'atomicbomb', 'smartnews', 'collapse', 'latimes', 'gadget', 'okwx', 'adjust', 'ashes', 'vaxshill', 'donzilla', 'triciaoneill', 'interview', 'realestate', 'blessed', 'insanelimits', 'management', 'nightbeat', 'abbott', 'archipelagowolves', 'glaucoma', 'metepec', 'don', 'science', 'whitehouse', 'freaky', 'foxnews', 'afp', 'amsterdam', 'mayhem', 'crazyideascollege', 'toronto', 'we', 'ptbo', 'minions', 'nj36', 'alt', 'asia', 'trs', 'sizewell', 'gn', 'difficultpeople', 'ushanka', 'shtf', 'guillermo', 'likes', 'socialnews', 'xbox', 'sinkhole', 'bible', 'cliptv', 'brucewillis', 'sydney', 'coppednews', 'ferguson', 'usnwsgov', 'cufi', 'flashflood', 'sittwe', 'blowltan', 'truelove', 'quran', 'sjubb', 'castle', 'rescued', 'gravity', 'porn', 'deai', 'acenewsdesk', 'grindhouse', 'de', 'hazmat', 'icd10', 'finsup', 'yonews', 'theconspiracytheory', 'education', 'robot', 'healthcare', 'irandeal', 'skinny', 'miami', 'palestine', 'gym', 'zombiefunrun2014', 'lgbt', 'rewatchingthepilot', 'tcot', 'teamscorpion', 'bancodeseries', 'sanonofre', 'red', 'indonesia', 'freesikhpoliticalprisnors', 'ftsn', 'life', 'climatechange', 'najibrazak', 'coyi', 'coya', 'cold', 'orshow', 'androidgames', 'bishopfred', 'growingupspoiled', 'b2b', 'homosexuality', 'strong', 'security', 'zionist', 'healthinsurance', 'entretenimento', 'after', 'wealth', 'humanrights', 'sirens', 'eyefacts', 'summerfate', '09', 'dance', 'cakes', 'homeimprovement', 'or', 'kuwait', 'flooding', 'welovela', 'drought', 'kidscompany', 'stretcher', 'stopharper', 'nb', 'warnerrobins', 'horror', 'whocares', 'art', 'helicopter', 'kidsthesedays', 'ny35', 'property', 'hs2', 'prison', 'insubcontinent', 'snowden', 'southdowns', 'teamsurvivors', 'seattle', 'afc'}\n"
     ]
    }
   ],
   "source": [
    "print(\"Unique Hashtags Found: \", len(hashtags))\n",
    "print(hashtags)"
   ]
  },
  {
   "cell_type": "markdown",
   "metadata": {},
   "source": [
    "#### Mention Removal:\n",
    "\n",
    "As the twets contain varions tags or mentions to irrelevant people that can unecessarily create noise in our data we will remove all the mentions from the tweets."
   ]
  },
  {
   "cell_type": "code",
   "execution_count": 10,
   "metadata": {},
   "outputs": [],
   "source": [
    "def remove_mentions():\n",
    "    regex = \"@(\\w+)\"\n",
    "    for i in range(len(df_train)):\n",
    "        original_line = df_train['text'].iloc[i]\n",
    "        original_line_list = df_train['tok tweets'].iloc[i]\n",
    "        mention_list = re.findall(regex, original_line)\n",
    "        df_train['tok tweets'].iloc[i] = [word for word in original_line_list if word[1:] not in mention_list]\n",
    "        # print(df_train['tok tweets'].iloc[i])\n",
    "        \n",
    "remove_mentions()  "
   ]
  },
  {
   "cell_type": "markdown",
   "metadata": {},
   "source": [
    "#### Removing Punctuations:\n",
    "\n",
    "In this step we will simply remove all the punctuations present in the tweet as punctuations are irrelevant to us."
   ]
  },
  {
   "cell_type": "code",
   "execution_count": 11,
   "metadata": {},
   "outputs": [],
   "source": [
    "def remove_punctuations():\n",
    "    # takes care of all the links as well as links are not alpha numeric\n",
    "    for i in range(len(df_train)):\n",
    "        original_line = df_train['tok tweets'].iloc[i]\n",
    "        final_line = [word for word in original_line if word.isalnum()]\n",
    "        df_train['tok tweets'].iloc[i] = final_line\n",
    "        # print(final_line)\n",
    "remove_punctuations()"
   ]
  },
  {
   "cell_type": "markdown",
   "metadata": {},
   "source": [
    "#### Removing Short words:\n",
    "\n",
    "Even though we have removed most of the stop words, there still remain some words which are unecessary and haven't been removed earlier for example random letters and 2 letter words."
   ]
  },
  {
   "cell_type": "code",
   "execution_count": 12,
   "metadata": {},
   "outputs": [],
   "source": [
    "def remove_shorts():\n",
    "    for i in range(len(df_train)):\n",
    "        original_line = df_train['tok tweets'].iloc[i]\n",
    "        final_line = [word for word in original_line if len(word) > 3]\n",
    "        df_train['tok tweets'].iloc[i] = final_line\n",
    "        \n",
    "remove_shorts()"
   ]
  },
  {
   "cell_type": "markdown",
   "metadata": {},
   "source": [
    "#### Stemming / Lemmatization of words:\n",
    "\n",
    "Stemming and Lemmatization are basically the processes to shorten a word in the tweet with the major difference between the two being that lemmatization gives us the root of the word for example Lemmatizer will convert best or better to good which is the root word where as a stemmer will jsut look out for prefixes and suffixes and remove those for example adjustable will be converted to adjust.\n",
    "\n",
    "So in this step we will be lemmatizing the words in our tweet."
   ]
  },
  {
   "cell_type": "code",
   "execution_count": 13,
   "metadata": {},
   "outputs": [],
   "source": [
    "from nltk.stem import WordNetLemmatizer\n",
    "\n",
    "def lemmatize():\n",
    "    lem = WordNetLemmatizer()\n",
    "    for i in range(len(df_train)):\n",
    "        original_line = df_train.loc[i, 'tok tweets']\n",
    "        for j in range(len(original_line)):\n",
    "            x = lem.lemmatize(original_line[j].lower())\n",
    "            df_train.loc[i, 'tok tweets'][j] = x\n",
    "        # print(original_line)\n",
    "lemmatize()"
   ]
  },
  {
   "cell_type": "code",
   "execution_count": 14,
   "metadata": {},
   "outputs": [
    {
     "data": {
      "text/html": [
       "<div>\n",
       "<style scoped>\n",
       "    .dataframe tbody tr th:only-of-type {\n",
       "        vertical-align: middle;\n",
       "    }\n",
       "\n",
       "    .dataframe tbody tr th {\n",
       "        vertical-align: top;\n",
       "    }\n",
       "\n",
       "    .dataframe thead th {\n",
       "        text-align: right;\n",
       "    }\n",
       "</style>\n",
       "<table border=\"1\" class=\"dataframe\">\n",
       "  <thead>\n",
       "    <tr style=\"text-align: right;\">\n",
       "      <th></th>\n",
       "      <th>id</th>\n",
       "      <th>keyword</th>\n",
       "      <th>text</th>\n",
       "      <th>target</th>\n",
       "      <th>tok tweets</th>\n",
       "    </tr>\n",
       "  </thead>\n",
       "  <tbody>\n",
       "    <tr>\n",
       "      <th>0</th>\n",
       "      <td>1</td>\n",
       "      <td></td>\n",
       "      <td>Our Deeds are the Reason of this #earthquake M...</td>\n",
       "      <td>1</td>\n",
       "      <td>[deed, reason, earthquake, allah, forgive]</td>\n",
       "    </tr>\n",
       "    <tr>\n",
       "      <th>1</th>\n",
       "      <td>4</td>\n",
       "      <td></td>\n",
       "      <td>Forest fire near La Ronge Sask. Canada</td>\n",
       "      <td>1</td>\n",
       "      <td>[forest, fire, near, ronge, sask, canada]</td>\n",
       "    </tr>\n",
       "    <tr>\n",
       "      <th>2</th>\n",
       "      <td>5</td>\n",
       "      <td></td>\n",
       "      <td>All residents asked to 'shelter in place' are ...</td>\n",
       "      <td>1</td>\n",
       "      <td>[resident, asked, shelter, place, notified, of...</td>\n",
       "    </tr>\n",
       "    <tr>\n",
       "      <th>3</th>\n",
       "      <td>6</td>\n",
       "      <td></td>\n",
       "      <td>13,000 people receive #wildfires evacuation or...</td>\n",
       "      <td>1</td>\n",
       "      <td>[people, receive, wildfire, evacuation, order,...</td>\n",
       "    </tr>\n",
       "    <tr>\n",
       "      <th>4</th>\n",
       "      <td>7</td>\n",
       "      <td></td>\n",
       "      <td>Just got sent this photo from Ruby #Alaska as ...</td>\n",
       "      <td>1</td>\n",
       "      <td>[sent, photo, ruby, alaska, smoke, wildfire, p...</td>\n",
       "    </tr>\n",
       "  </tbody>\n",
       "</table>\n",
       "</div>"
      ],
      "text/plain": [
       "   id keyword                                               text  target  \\\n",
       "0   1          Our Deeds are the Reason of this #earthquake M...       1   \n",
       "1   4                     Forest fire near La Ronge Sask. Canada       1   \n",
       "2   5          All residents asked to 'shelter in place' are ...       1   \n",
       "3   6          13,000 people receive #wildfires evacuation or...       1   \n",
       "4   7          Just got sent this photo from Ruby #Alaska as ...       1   \n",
       "\n",
       "                                          tok tweets  \n",
       "0         [deed, reason, earthquake, allah, forgive]  \n",
       "1          [forest, fire, near, ronge, sask, canada]  \n",
       "2  [resident, asked, shelter, place, notified, of...  \n",
       "3  [people, receive, wildfire, evacuation, order,...  \n",
       "4  [sent, photo, ruby, alaska, smoke, wildfire, p...  "
      ]
     },
     "execution_count": 14,
     "metadata": {},
     "output_type": "execute_result"
    }
   ],
   "source": [
    "df_train.head()"
   ]
  },
  {
   "cell_type": "markdown",
   "metadata": {},
   "source": [
    "#### Hashtags Analysis:\n",
    "\n",
    "Now we will analyze the hashtags that we have collected from our data in the previous step but before that we will lemmatize the hashtags we have as we have lemmatize all the words of our tweets missing this step could be very dangerous as it could lead to wrong interpretations and results and can possibly afftect the performance of our model as well."
   ]
  },
  {
   "cell_type": "code",
   "execution_count": 15,
   "metadata": {},
   "outputs": [],
   "source": [
    "def lemmatize_hashtags(hashtag_list):\n",
    "    lemmatizer = WordNetLemmatizer()\n",
    "    for i in range(len(hashtag_list)):\n",
    "        hashtag_list[i] = lemmatizer.lemmatize(hashtag_list[i])\n",
    "    return set(hashtag_list)\n",
    "\n",
    "hashtags = lemmatize_hashtags(list(hashtags))"
   ]
  },
  {
   "cell_type": "code",
   "execution_count": 16,
   "metadata": {},
   "outputs": [
    {
     "name": "stdout",
     "output_type": "stream",
     "text": [
      "Unique Hashtags Found:  1901\n",
      "{'catsofinstagram', 'spark', 'chinadotcom', 'instagramers', 'age', 'traumatised', 'orapinforma', 'swag', 'insurance', 'trump', 'frvrgrateful', 'iphone', 'holomua', 'child', 'investing', 'bokoharam', 'mh370', 'carlilescanoelivery', 'usgs', 'osi2016', 'priority', 'boxing', 'theneeds', 'iwontmakeit', 'benediction', 'endoccupation', 'meet', 'freebitcoin', 'mix', 'casualty', 'italian', 'imkeepingmydayjob', 'playoff', 'smallbusiness', 'caraccidentlawyer', 'wps', 'muhamadjabal', 'pandemonium', 'innocent', 'rapidcity', 'like', 'eonlinechat', 'restoringpaths', 'gas', 'yycfringe', 'auction', 't', 'death', 'israel', 'lovefood', 'wakeupflorida', 'kotaweather', 'tvshowtime', 'nlwx', 'rockin', 'doomsday', 'asae15', 'durant', 'enkelbiljett', 'foxdebatequestions', 'wattpad', 'n', 'tms7', 'jadehelm15', 'picthis', 'benews', 'kashmirconflict', 'magic', 'traffic', 'boy', 'waterboarding', 'writingtips', 'thomassmonson', 'startrek', 'minamisoma', 'indiatv', 'bestseller', 'cawx', 'diversification', 'weddinghour', '615', 'alwx', 'tampa', 'givebackkalinwhiteaccount', 'bluebell', 'yyc', 'cossack', 'breaking144', 'earthtwerk', 'ashville', 'arizona', 'nghlth', 'offers2go', 'rochdale', '365disasters', 'wcvb', 'milf', 'pet', 'nagasaki', 'wantmyabsback', 'cri', 'gujaratriot', 'smem', 'pakistan', 'chernobyl', 'yazidis', 'txlege', 'skardu', 'lol', 'robertcalifornia', 'binladen', 'thisiswhywecanthavenicethings', 'ap', 'natural', 'africanbaze', 'illinois', 'dw', 'nowplay', 'fortworth', 'dynamix', 'nintendo', 'kelbytomlinson', 'wx', 'roddypiperautos', 'appreciativeinquiry', 'freespeech', 'foamcc', 'colorado', 'entertainment', 'aerospace', 'becarefulharry', 'thesteveharveyshow', 'southline', 'appy', 'physician', '20150613', 'dna', 'halifax', 'date', 'hinatobot', 'papicongress', 'ccot', 'gold', 'cedarglade2015', 'asap', 'kerricktrial', 'deluge', 'novalismi', 'palestinian', 'pft', 'treescape', 'trafficalert', 'storm', 'lotz', 'np', '7newsadl', 'renew911health', 'wzbt', 'otratmetlife', 'jiwonle', 'varagesale', 'navy', 'zionism', 'nwt', 'sale', 'cfc', 'swim', 'mapleridge', 'photo', 'elephantintheroom', 'usmnt', 'cloud', 'goblue', 'shipping', 'magichairbump', 'gymtime', 'baltimore', '22days', 'realhiphop', 'mexico', 'setting4success', 'iwasdisappointedby', 'painting', 'govegan', 'aid', 'seduction', 'apple', 'ndtv', 'tennews', 'load', 'cum', 'elxn42', 'toosoon', 'team', 'trapmusic', 'prepper', 'riot', 'hungerarticles', 'market', 'hangout', 'fifa16', 'playlist', 'presser', 'tattoo', 'yazidi_shingal_genocide', 'iheartradio', 'orchardalley', 'titania', 'identitytheft', '89x', 'paranormal', 'bombed', 'plannedparenthood', 'doublecups', 'cle', 'airport', 'luck', 'annoucement', 'newbeginningsanimalrescue', 'burnfat', 'cuff', 'standup', 'columbus', 'coke', 'minion', 'omg', 'abha', 'frofrofro', 'poster', 'azwx', 'e', 'susiya', 'dontexpectnothing', 'decisionsondecisions', 'weloveyoulouis', 'chargedup', 'musicadvisory', 'pop2015', 'driverlesscars', 'pilot', 'qew', 'tribe', 'georgecole', 'abcnews', 'gymflow', 'watch', 'rock', 'terrorism', 'earth', 'instaquote', 'incident', 'udhampuragain', 'nativehuman', 'childhood', 'reflect', 'eyewitness', 'legionnairesdisease', 'giveaway', 'program', 'thatswhatfriendsarefor', 'fund', 'disney', 'kindle', 'hcsm', 'oregon', 'thestrain', 'oomf', 'romance', 'sinjar', 'fun', 'mystery', 'wmata', 'nyg', 'rossbarton', 'filipino', 'lessonforlife', 'semasirtalks', 'boston', 'aogashima', 'beyhive', 'lungcancer', 'bluehand', 'afterhaiyan', 'displaced', 'tampabay', 'lh_movie', 'landslide', 'kca', 'indiannews', 'funnydadcoach', 'nffc', 'boob', 'countynews', 'streetjamzdotnet', 'police', 'psychrewatch', 'kppolice', 'ct', 'metrofmtalk', 'dfir', 'warmbodies', 'elderly', 'poze', 'nhl', 'standwithpp', 'bookboost', 'dog', 'tedcruz2016', 'pitmix', 'gravitymovie', 'killed', 'quake', 'nowplaying', 'battlefield', 'reuters', 'clip', 'drjustinmazur', 'abc7eyewitness', 'airwave', 'stephenking', 'bc', 'flame', 'deepthoughts', 'technews', 'phuket', 'concert', 'obama', 'horrible', 'manchesterlite', 'yazidi', 'donthate', 'bts', 'thriller', '2fast2furious', 'tube', 'sismo', 'business', 'nieuws', 'followback', 'ariz', 'ultimalucha', 'auspol', 'shape', 'hardball', 'myfitnesspal', 'nv', '3', 'sinking', 'uniteblue', 'beclearoncancer', 'politics', 'indiakomuntorjawabdo', 'lancaster', 'diet', 'survival', 'thehobbit', 'bbshelli', 'abstorm', 'pluto', 'helsinki', 'floored4', 'iraq', 'harrystyles', 'roosevelt', 'achedin', 'russian', 'bayarea', 'oktxduo', '1008planet', 'tow', 'fly', 'thinkpink', 'worstsummerjob', 'brochure', 'shipwreck', 'wahhabism', 'freeamirnow', 'camera', 'cdcwhistleblower', 'image', 'live', 'listen', 'summertime', 'skyrim', 'republican', 'haiyan', 'boycottbears', 'vegan', 'preventative', 'facebook', 'gamergate', 'love', 'bored', 'peritoengrafoscopia', 'askforalaska', 'airplane', 'modi', 'news', 'prayforsaipan', 'shantaeforsmash', 'taxreturn', 'norge2040', 'uswarcrimes', 'heywood', 'bioterror', 'treeporn', 'wrongperson', 'keepingtheviginaclean', 'cadrought', 'real', 'bjp', 'ableg', 'tfb', 'ijetalerts', 'nfl', 'japanjapan', 'dutton', 'sustainability', 'gbbo', 'bitcoin', 'canonbringit', 'bakeofffriends', 'directioners', 'allthekidneybeansandsorbet4misha', 'injury', 'music', 'harrybecareful', 'chile', 'breakingnews', 'flood', 'squad', 'fartanxiety', 'roh3smantibatam', 'bookmobile', 'vail', 'artectura', 'langata', 'download', 'loseit', 'headline', 'family', 'jakartapost', 'tree', 'humanconsumption', 'cityofmemphis', 'ocnj', 'sun', 'tweetlikeitsseptember11th2001', 'sportinggoods', '5sosfam', 'saintsfc', 'destinationimpact', 'war', 'mpers', 'sorrybutitstrue', 'chawalchorbjp', 'bayonet', 'threatintel', 'firenews', 'cameroon', 'hampshire', 'truckcrash', 'watersafety', 'sirensicebreaker', 'sub', 'subway', 'firefighter', 'askcharley', 'thereal', 'milledgeville', 'hailstorm', 'bbloggers', 'uknews', 'freedom', 'superfood', 'iwk', 'tnn', 'topnews', 'badchoices', 'glanders', 'illustration', 'infectious', 'rockyfire', 'assassin', 'dnb', 'cbcto', 'jishin_e', 'zippoline', 'sore', 'sfgiants', 'listia', 'takecare', 'missionhills', 'lao', 'thunder', 'pantherattack', '140', 'thedoolinggroup', 'aircraft', 'biblestudy', 'letsfootball', 'cub', 'mumbailocals', 'japan', 'noirandeal', '8217', 'modiministry', 'trc', 'best', 'residualincome', 'cleveland', 'cumshot', 'weed', 'votejkt48id', 'libya', 'robotcoingame', 'q99', 'mta', 'client', 'survived', 'islamic', 'nri', 'radio', 'bangladesh', 'policy', 'wildhorses', 'model', 'til_now', 'pt', 'fierce', 'deals_uk', 'neverforget', '17', 'megaquake', 'phone', 'euroquake', 'collegeradi', 'otleyhour', 'inspiration', 'personalinjury', 'firefighting', 'wave', 'enolagay', 'njturnpike', 'pjnet', 'engvaus', 'redblood', 'joestrong', '4playthursdays', 'nestleindia', 'wine', 'animal', 'trucking', 'preppers', 'prez', 'tna', 'autoinsurance', 'flattened', 'jonvoyage', 'fireman', 'wsj', '039', 'kurokobot', 'electro', 'cbs', 'trafficnetwork', 'wod', 'photography', 'arwx', 'media420', 'nwo', 'exec', 'gishwhes', 'patriotsnation', 'oped', 'u', 'droughtmonitor', 'trophyhunt', 'shakeology', 'calgary', 'spain', 'nå¼36', 'firetruck', 'imdb', 'bennycapricon', 'body', 'seaworld', 'sto', 'antioch', 'interestraterise', 'rwa', 'eye', 'mullah', 'shelli', 'idlenomore', '360wisenews', 'c4news', 'b2bagency', 'promo', 'cyber', 'android', 'wolf', 'goodbye', 'natsnation', 'avigdorliberman', 'fingerrockfire', 'romanticsuspense', 'stormchase', 'grant', 'palermo', 'safety', 'santaclara', 'baby', 'changefortheworse', 'rrbc', 'court', 'pizzarev', 'ban', 'lovemydentist', 'losdelsonido', 'coast2coastdjs', 'animalrescue', 'ftw', 'arsenal', 'pod', 'ruor', 'premonition', 'ny', 'saudi', '9973', 'redsox', 'arrestpastornganga', 'mtvhottest', 'apocalypse', 'captureyyc', 'jetengine', 'refugeesmatter', 'workout', 'liveonk2', 'bestnaijamade', 'lwb', 'blackpool', 'harperanetflixshow', 'g', 'suspense', 'twisterlovesshania', 'triciaoneillphoto', 'content', 'fantasticfour', 'pussy', 'hwy401', 'fire', 'chester', 'mobile', 'charminar', 'cantwaittoplayinminneapolis', 'globalwarming', 'hugomatz', 'burnaby', 'global', 'iartg', 'tribal', 'idwx', 'gfz', 'priceless', 'fanarmyfaceoff', 'amageddon', 'helpme', 'alrasyid448iturasya', 'cowx', 'psd', 'thegame', 'fukushima', 'ar', 'nar', 'bethlehem', 'newyear', 'yolandaph', 'nbc15', 'twia', 'crazyweather', 'soothmyslumber', 'companionship', 'mandela', 'gemma', 'wrestleon', 'ibooklove', 'yemen', 'infectiousdiseases', 'wimbledon', 'sex', 'care', 'nigeria', 'denver', 'rodkiai', 'losangeles', 'metal', 'privacy', 'twin', 'thexfiles201days', 'ty', 'utfire', 'woman', 'makinmemories', 'result', 'expertwhiner', 'rn', 'protectdenaliwolves', 'luchaunderground', 'chicago', 'anonymous', 'tarzana', 'kashmir', 'generalnews', 'xboxone', 'st', 'gbbo2015', 'yiayplan', 'nsfw', 'muaytai', 'phoenix', 'election', 'vietnam', 'writing', 'stoponesounds', 'dvd', 'g90', 'avalanche', 'evacuation', 'mybabies', 'wdym', 'desolationofsmaug', 'allthenews', 'guardian', 'demolition', 'lawx', 'as', 'cdnpoli', 'tech', 'terror', 'truestory', 'ashes2ashes', 'mets', 'notrocketscience', 'nuclearweapons', 'perspective', 'now', 'videoveranomtv', 'ethical', 'orpol', 'choosegod', 'amazon', 'forbes', 'menswear', 'overwatch', 'anxietyproblems', 'palmoil', 'cogxbox', 'datingtips', 'parent', 'vuzuhustle', 'theresmorewherethatcamefrom', 'jp', 'fresno', 'rohingya', 'annonymous', 'amicospizzato', 'kenya', 'westerncanadadrought', 'preparedness', 'dubai', 'mrrobinson', 'wcw', 'badirandeal', 'specialneeds', 'mcgsecure', 'twimbos', 'spotlight', '911', 'stlouis', 'obliteration', 'wild', 'potus', 'lolla', 'weather', 'bbc', 'watermeloann', 'jamaicaplain', 'indie', 'plugin', 'heat', 'traitor', 'menolippu', 'thebargain', 'an247', 'survivor', 'snowstorm', 'theatershooting', 'justice', 'destruction', 'crime', 'fitness', 'alberta', 'saltriverwildhorses', 'sbnation', 'solicitor', 'thisispublichealth', 'cnn', 'homealone2', 'autism', 'rolandonabeats', 'sigalert', 'syria', 'icymi', 'gisuserpr', 'bahrain', 'world', 'lomasvisto', '999day', 'zimmerman', 'britishbakeoff', 'besttalkradio', 'blackinamerica', 'canada', 'startup', 'muppet', 'catastrophic', 'ovofest', 'billing', 'alameda', 'windows10', 'hse', '06', 'siren', 'recipe', 'nh1news', 'beyondthebomb', 'mylifestory', 'throwback', 'liveonstreamate', 'course', 'dua', 'perrychat', 'follow', 'run', 'mì¼sica', 'gawx', 'paraguay', 'turbojet', 'brooklyn', 'ihave44episodesofgg', 'tweet4taiji', 'trading', 'gamefeed', 'shoe', 'wisdomwed', 'ggindependencmessage', 'tepco', 'trollingtilmeekdiss', 'gopdebate', 'lonepine', 'slanglucci', 'jagm', 'nursing', '0215', 'truth', 'krefeld', 'afghanistan', 'brixton', 'copped', 'emergency', 'feelingmanly', 'freekashmir', 'moving2k15', 'movietheatre', 'valleywx', 'ezidigenocide', 'tos', 'nuke', 'terrorist', 'indiefilm', 'gabon', 'blockchain', 'mumbairiot92', 'history', 'aeroplane', 'nasa', 'thunderstorm', 'cannabis', 'atombomb', 'jonathanferrell', 'tootrue', 'cantmakeitup', 'videogame', 'thebookclub', 'check', 'csismica', 'twcnewsclt', 'teen', 'somalia', 'legionstrackandfield', 'leadership', 'she', 'speakingfromexperience', 'charity', 'foot', 'drone', 'heavy', 'faroe', 'drum', 'win', 'alllivesmatter', 'reading', 'teamhennessy', 'act', 'library', 'ptsd', 'rome', 'yycwalks', 'nonucleariran', 'oneheartonemindonecss', 'netlabel', '3novices', 'wrecked', 'sandiego', 'hempoil', 'chemical', 'ineedexposure', 'henderson', 'bridgetown', 'pieceofme', 'king', 'sport', 'simple', 'tsunami', 'military', 'routecomplex', 'retweet', 'happy', 'trauma', 'jamaica', 'aviationaddicts', 'pearlharbor', 'vaginaorcake', 'japì_n', 'shoalstraffic', 'pixelsmovie', 'earthquakenews', 'foodscare', 'millcityio', 'insas', 'piling', 'northerncalifornia', 'puppy', '16', 'bangalore', 'ww1', 'yyj', 'vegetarian', 'nj', 'blacklivesmatter', 'demolished', 'catfish', 'papiichampoo', 'ramag', 'usar2015', 'nashvilletraffic', 'theashes', 'disaster', 'capeann', 'forbesasia', 'quoteoftheday', 'volleyball', 'addtexastonext1dtour', 'justsaying', 'newswatch', 'lava', 'loveislove', 'randomthought', 'badkitty', 'moveit', 'nc', 'prebreak', 'banking', 'preseasonworkouts', '9newsmornings', 'oilandgas', 'growingupincolorado', 'booradleyvancullen', 'standforwolves', 'bantrophyhunting', 'bush', 'rt', 'talkradio', 'saveti', 'pitchwars', 'wniagospel', 'smallbiz', 'le', 'film4', 'funtimes', 'labour', 'savedenaliwolves', 'thepartyofmeanness', 'koin6news', 'arkansas', 'undergroundrailraod', 'wbc2015', '4', 'ftsnnewsdesk', 'tookitlikeaman', 'bcpoli', 'endconflict', 'justaguess', 'technology', 'urbanfashion', 'tripoli', 'nopower', 'video', 'coloradoavalanche', 'whatcanthedo', 'bangladeshflood', '1008pla', 'hot', 'edm', 'hail', 'yahistorical', 'loveyouuuu', 'kamloops', 'newrelease', 'internet', 'sanelesstheory', 'ca', 'debatequestionswewanttohear', 'plague', 'cheyenne', 'insomnia', 'pic', 'literarycakes', 'walmart', 'seagull', 'gop', 'banksy', 'bb17', 'shop', 'wpo', 'suryaray', 'c', 'mercados', 'badotweet', 'm', 'silverwood', 'albany', 'worldvision', 'destroy', 'warcraft', 'garden', 'whag', 'easternoregon', 'usar15', 'bbsnews', 'sejorg', 'rider', 'katterpì', 'banthebomb', 'besafe', 'kindlecountdown', 'hiroshima70', 'masterchef', 'brisbane', 'rowysolouisville', 'free', 'fr', 'icelandreview', 'bloodbound', 'extinction', 'windstorm', 'populardemand', 'breaking411', 'piperwearsthepants', 'twist', 'in', 'gilbert23', '7', 'meditationbymsg', 'publichealth', 'wholeteam3', '24', 'smarttek', 'radiation', 'seismic', 'ziphimup', 'wa', 'europe', 'manchester', 'faroeislands', 'nude', 'lucky', 'ifunny', 'carfest', '629', 'calwildfires', 'bloodymonday', 'orcot', 'lie', 'sportsroadhouse', '171', 'tory', 'homs', 'haildamage', 'tubestrike', 'irannucleardeal', 'man', 'puledo_tech_update', 'lds', 'scichat', 'magginoodle', 'humble', 'nra', 'hope', 'galvnews', 'jackson', 'zippednews', 'back', 'oklahoma', 'boing', 'veteran', 'visionzero', 'cambridge', 'cubstalk', 'infosec', 'abandoned', 'lightning', 'lifestyle', 'summervibes', 'nba', 'sanfrancisco', 'worldnews', 'unfml', 'ootd', '263chat', 'artistsunited', 'ksbynews', 'nyc', 'notgoingoutinthat', 'nytimes', 'ge', 'cowboy', 'alaska', 'ncwx', 'energy', 'jfb', 'rip', 'childsexabuse', 'florida', 'freeallfour', 'waltdisney', 'francisunderwood', 'blowmandyup', 'sustainable', 'hiring', 'author', 'kamindoz', 'thedarktower', 'quote', 'torrance', 'ika', 'ayekoradio', 'wired', 'tnwx', 'money', 'handbag', 'myanmar', 'newep', 'tbt', 'michelebachman', 'clubbanger', 'africansinsf', 'nonprofit', 'malaysiaairlines', 'cnbc', '2015', 'rain', 'atlanta', 'ppsellsbabyparts', 'vanpoli', 'anthrax', 'babri', 'askh3cz', 'wdyouth', 'floridian', 'robertwelch', 'special', 'failure', 'canpoli', 'shestooyoung', 'strategy', 'rioting', 'newyork', 'thanku', 'cricket', 'az', 'kneelbot', 'ash', 'marijuana', 'gallipoli', 'marinelines', 'modestmouseremix', 'ukfloods', 'ok', 'remymarcel', 'cochrane', 'meteoearth', 'paulhollywood', 'mfrwauthor', 'etcpb', 'dam', 'charmed', 'isea2015', 'drained', 'doping', 'nosurrender', 'topstories', 'calfires', 'book', 'ch4', 'bluejays', 'rdg', 'cndpoli', 'gfe', 'momneedscoffee', 'golf', 'teenfiction', 'tdp', 'interest', 'govt', 'cutekitten', 'makewaterwork', 'contentmarketing', 'winechat', 'kml', 'queen', 'kisii', 'kro', 'nojoke', 'byebyesoundcloud', 'france', 'twcnews', 'growingupblack', 'watchthevideo', 'rtrrt', 'rfp', 'videoclip', 'thereisonlysex', 'latestnews', 'texaschainsawmassacre', 'doubleghats', 'shanghai', 'actionmoviestaughtus', 'escort', 'onthisday', 'bc19', 'nazi', 'taiwan', 'chicagoscanner', 'dublin', 'metro', 'bannukes', 'bangladeshaffected', 'computer', 'mmda', 'voodoo', 'comedy', 'food', 'hyperbole', 'cat', 'crossfit', 'lakeeffect', 'kodiak', 'canontattoo', 'jazz', 'what', 'labourleadership', 'tafs', 'genocide', 'straightfire', 'gif', 'zaatari', 'hunwx', 'mtvsummerstar', 'duststorm', 'health', 'du19', 'forex', 'tiger', 'crash', 'wish', 'hellfire', 'nitclub', 'funnynews', 'msgdoing111welfareworks', 'stopevictions', 'india', 'i', 'winter', 'state', 'wedding', 'nature', 'vivaargentina', 'borrower', 'god', 'kyee', 'slab', 'pp15000266858', 'cyclone', 'respect', 'endangered', 'lukebox', '8392', 'la', 'london', 'cc', 'foamed', 'profittothepeople', 'tb', 'china', 'artisteoftheweekfact', 'cecilthelion', 'chelsea', 'whirlwind', 'lesbian', 'ergo', 'nochilllukehammings', 'liveonkbak', 'wxky', 'scseestapreparando', 'seeyouatamicos', 'dcubecrafts', 'jsunnews', 'ebola', 'raheelsharif', 'houston', 'hoc', 'nlccollide', 'crush', '1', 'backtoback', 'electronicmusic', 'catfishmtv', 'catastrophe', 'otrametlife', 'africa', 'mgtab', 'wogc', '6', 'hiroshima', 'heartdisease', 'newsdict', 'bitcoing', 'islam', 'asian', 'gunsense', 'help', 'morevoices', 'hazard', 'vancouver', 'atk', 'gaming', 'environment', 'livelihood', 'cool', 'nook', 'lake', 'newsarama', 'thorium', 'baking', 'youtube', 'tangletalk', 'snooker', 'dating', 'comingsoon', 'yug', 'mumbai', 'tuning', 'opp', 'dubstep', 'tanzania', 'sing', 'deep', 'dumuzid', 'tornadogiveaway', 'iran', 'logistics', 'mn', 'australia', 'niagara', 'sr14', 'reidlake', 'greetingcards', 'assnchat', 'butgod', 'amssummer', 'gunfail', 'sad', 'offshore', 'travel', 'linden', 'emsc', 'thebachelorette', '163', 'uk', 'yycstorm', 'style', 'copalibertadores', 'wishlist', 'arsonist', 'roh3', 'brics', 'dc', '9', 'reno', 'tantonationalforest', 'digitalhealth', 'isi', 'autismawareness', 'econom', 'hhbu', 'southkorea', 'sciencefiction', 'vanuatu', 'komen', 'au', 'wildfire', 'lovemyjob', 'anarchy', 'adiossuperbacterias', '2a', 'greatbritishbakeoff', 'flavorchargedtea', 'mainstage', 'abomb', 'mothernature', 'oneborn', 'aintsheperty', 'pp15000266818', 'roimentor', 'comdev', 'rememberrabaa', 'rt_4_a_mention', 'job', 'everydaynaija', 'homeless', 'tv', 'round2', 'oocvg', 'olympia', 'grupdates', 'putin', 'malaysia', 'troubleonmymind', '124', 'yagitudeh', 'boulder', 'jtw', 'shooting', 'macon', 'gh', 'dependency', 'sm', 'yes', 'refugee', 'scraptrident', 'emmerdale', 'summer2k15', 'anchorage', 'armageddon', '2minutemix', 'rescue', 'abc', 'aoms', 'lifehacks', 'innovation', 'cake', 'choppergate', 'afterlife', 'skh', 'tough', 'earthquake', 'manhood', 'bhusa', 'emsne', 'tvjnews', 'hannaph', 'mtsalert', 'fettilootch', 'lakeisabella', 'hockey', 'ashestoashes', 'worker', 'dagens', 'trump2016', 'dead', 'gravitychat', 'gloucester', 'thingsihate', 'ww3', 'evacuate', 'beconfident', 'washingtonpost', 'fdny', 'listenlive', 'worldwatchesferguson', 'myreligion', 'medinah', 'fedex', 'bomb', 'hostage', 'ut', 'turkish', 'raining', 'portgassdk', 'bronwynbishop', 'queenswharf', 'summer', 'geotech', 'bioterrorism', 'tn', 'gokitgo', 'nevada', 'wattys2015', 'montgomery', 'international', 'professional', 'naturaldisasters', 'cafire', 'goodreads', 'dream', 'amreading', 'vmas', 'ptsdchat', 'em', 'song', 'udhampur', 'nikeplus', 'pbban', 'scwx', 'nasty', 'mlm', 'deadgrassandflowers', 'ashes2015', 'idfire', 'socialmedia', '37592', 'savebees', 'frontpage', 'nz', 'otd', 'euro', 'tragedy', 'ufo4ublogeurope', 'buffalo', 'nissannews', 'usa', 'prophetmuhammad', 'rio2016', 'greece', 'nola', 'raisinfingers', 'soundcloud', 'ojoubot', 'yr', 'rubybot', 'parkchat', 'retail', 'ey', 'allah', 'conversation', 'mudslide', 'ivanberroa', 'borderland', 'bathandnortheastsomerset', 'borderlands2', 'cadenadeseguidores', 'internetradio', 'syrian', 'mediterranean', 'yzf', 'desolation', 'richhomeydon', 'whoop', 'bigbrother', 'saudiarabia', 'mlb', 'ugc', 'israeli', 'justinbieber', 'explodingkittens', 'followme', 'is', 'map', 'hitting', 'fat', '38745', 'hurricane', 'july', 'sirmixalot', 'revitup', 'breaking', 'forest', 'robert', 'nuclear', 'fashion', '452', 'fn', 'nhlducks', 'russia', 'mht', 'ebay', 'socal', 'ppact', 'casper', 'newsintweets', 'tomclancy', 'alaskaseafood', 'preppertalk', 'bhramabull', 'philippine', 'hagerstown', 'ambulance', 'summerinsweden', 'vra50', 'movie', 'skywarn', 'civilian', 'uglypeople', 'criticalmedia', 'fx', 'traintragedy', 'rickperry', 'strategicpatience', 'sydtraffic', 'fiya', 'losangelestimes', 'hotnewscake', 'forever', 'mantra', 'aftershock', 'clinton', 'telangana', 'gander', 'pb', 'evilempire', 'katt', 'climate', 'astrology', 'accident', 'mom', 'algeria', 'solar', 'mormon', 'accidentalprophecy', 'shantae', 'kick', 'co', 'paramedic', 'sacramento', 'typhoon', 'playingnow', 'gameinsight', 'california', 'farrakhan', 'biztip', 'murfreesboro', 'teamfollowback', 'yycweather', 'ccmusic', 'pathogen', 'fb100', 'nomorehandouts', 'cern', 'volcano', 'demonization', 'slingnews', 'runway', 'onlinecommunities', 'fant4stic', 'funny', 'disasterrecovery', 'thisdayinhistory', 'adani', 'hopeinchrist', 'pdx911', 'littlewomenla', 'adult', 'diyala', 'kurd', 'beyondgps', 'opseaworld', 'worm', 'cyprus', 'deltachildren', 'lgm', 'shantaehalfgeniehero', 'cnv', 'thankyou', 'silver', 'reddit', 'edwing', 'porno', 'christianvalues', 'chronicillness', 'askconnor', 'nashsnewvideo', 'killhard', 'oil', '034', 'royal', 'anti', 'bailout', 'tw4rw', 'eventspalmbeach', 'childhooddefined', 'idol', 'ice', 'yugvani', 'lightningstrike', 'wholesaleent', 'danger', 'reggaeboyz', 'entrepreneur', 'iamdowntown', 'hillaryclinton', 'mufc', 'firstnations', 'defendant', 'occasion2b', 'hometownglory', 'nw', 'glimpse', 'people', 'rainstorm', 'bowe', 'virus', 'disabledveterans', 'hiphop', 'dumle', 'tcotåê', 'sebee', 'p2', 'scifi', 'iot', 'pugprobs', 'japanese', 'snapchatselfie', 'lnp', 'atomicbomb', 'smartnews', 'collapse', 'latimes', 'gadget', 'okwx', 'adjust', 'vaxshill', 'donzilla', 'triciaoneill', 'interview', 'realestate', 'blessed', 'insanelimits', 'management', 'nightbeat', 'abbott', 'archipelagowolves', 'glaucoma', 'metepec', 'don', 'science', 'whitehouse', 'freaky', 'foxnews', 'afp', 'amsterdam', 'mayhem', 'crazyideascollege', 'toronto', 'we', 'ptbo', 'nj36', 'alt', 'asia', 'trs', 'sizewell', 'gn', 'difficultpeople', 'ushanka', 'shtf', 'guillermo', 'socialnews', 'xbox', 'sinkhole', 'bible', 'cliptv', 'brucewillis', 'sydney', 'coppednews', 'ferguson', 'usnwsgov', 'cufi', 'flashflood', 'sittwe', 'patriot', 'blowltan', 'truelove', 'quran', 'sjubb', 'castle', 'rescued', 'gravity', 'procedure', 'porn', 'deai', 'acenewsdesk', 'grindhouse', 'de', 'hazmat', 'icd10', 'finsup', 'yonews', 'theconspiracytheory', 'education', 'robot', 'healthcare', 'irandeal', 'skinny', 'miami', 'palestine', 'gym', 'zombiefunrun2014', 'lgbt', 'rewatchingthepilot', 'tcot', 'teamscorpion', 'bancodeseries', 'sanonofre', 'red', 'christian', 'indonesia', 'freesikhpoliticalprisnors', 'ftsn', 'life', 'climatechange', 'najibrazak', 'coyi', 'coya', 'cold', 'orshow', 'androidgames', 'bishopfred', 'growingupspoiled', 'b2b', 'homosexuality', 'strong', 'security', 'zionist', 'healthinsurance', 'entretenimento', 'after', 'wealth', 'humanrights', 'eyefacts', 'summerfate', '09', 'dance', 'homeimprovement', 'or', 'kuwait', 'flooding', 'welovela', 'drought', 'kidscompany', 'stretcher', 'stopharper', 'nb', 'gm', 'warnerrobins', 'horror', 'whocares', 'art', 'helicopter', 'kidsthesedays', 'ny35', 'property', 'hs2', 'alp', 'prison', 'insubcontinent', 'snowden', 'southdowns', 'teamsurvivors', 'seattle', 'afc'}\n"
     ]
    }
   ],
   "source": [
    "print(\"Unique Hashtags Found: \", len(hashtags))\n",
    "print(hashtags)"
   ]
  },
  {
   "cell_type": "code",
   "execution_count": null,
   "metadata": {},
   "outputs": [],
   "source": []
  }
 ],
 "metadata": {
  "kernelspec": {
   "display_name": "Python 3",
   "language": "python",
   "name": "python3"
  },
  "language_info": {
   "codemirror_mode": {
    "name": "ipython",
    "version": 3
   },
   "file_extension": ".py",
   "mimetype": "text/x-python",
   "name": "python",
   "nbconvert_exporter": "python",
   "pygments_lexer": "ipython3",
   "version": "3.7.7"
  }
 },
 "nbformat": 4,
 "nbformat_minor": 4
}
